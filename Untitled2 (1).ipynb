{
 "cells": [
  {
   "cell_type": "code",
   "execution_count": 3,
   "id": "cf7b90e9-2a8f-41f4-987f-631baa1a59f6",
   "metadata": {},
   "outputs": [],
   "source": [
    "from sklearn.feature_selection import mutual_info_regression\n",
    "from sklearn.preprocessing import OneHotEncoder, StandardScaler\n",
    "from sklearn.preprocessing import LabelEncoder\n",
    "from sklearn.compose import ColumnTransformer\n",
    "from sklearn.model_selection import train_test_split\n",
    "from sklearn.pipeline import Pipeline\n",
    "from sklearn.ensemble import RandomForestRegressor\n",
    "from sklearn.metrics import mean_squared_error, r2_score\n",
    "import pandas as pd\n",
    "import matplotlib.pyplot as plt"
   ]
  },
  {
   "cell_type": "code",
   "execution_count": 4,
   "id": "95e42328-e257-476c-801d-e437962808dd",
   "metadata": {},
   "outputs": [
    {
     "data": {
      "text/html": [
       "<div>\n",
       "<style scoped>\n",
       "    .dataframe tbody tr th:only-of-type {\n",
       "        vertical-align: middle;\n",
       "    }\n",
       "\n",
       "    .dataframe tbody tr th {\n",
       "        vertical-align: top;\n",
       "    }\n",
       "\n",
       "    .dataframe thead th {\n",
       "        text-align: right;\n",
       "    }\n",
       "</style>\n",
       "<table border=\"1\" class=\"dataframe\">\n",
       "  <thead>\n",
       "    <tr style=\"text-align: right;\">\n",
       "      <th></th>\n",
       "      <th>District</th>\n",
       "      <th>Crop</th>\n",
       "      <th>Season</th>\n",
       "      <th>Area (hectares)</th>\n",
       "      <th>Yield (quintals)</th>\n",
       "      <th>Production (metric tons)</th>\n",
       "      <th>Water Consumption (liters/hectare)</th>\n",
       "      <th>Water Availability (liters/hectare)</th>\n",
       "      <th>Soil Type</th>\n",
       "      <th>pH Level</th>\n",
       "      <th>Organic Matter (%)</th>\n",
       "      <th>Nitrogen Content (kg/ha)</th>\n",
       "      <th>Phosphorus Content (kg/ha)</th>\n",
       "      <th>Potassium Content (kg/ha)</th>\n",
       "      <th>Average Soil Moisture</th>\n",
       "      <th>Temperature</th>\n",
       "      <th>Rainfall</th>\n",
       "      <th>Humidity</th>\n",
       "      <th>Price (INR/quintal)</th>\n",
       "    </tr>\n",
       "  </thead>\n",
       "  <tbody>\n",
       "    <tr>\n",
       "      <th>0</th>\n",
       "      <td>Jodhpur</td>\n",
       "      <td>Oilseeds</td>\n",
       "      <td>Kharif</td>\n",
       "      <td>13431.83094</td>\n",
       "      <td>40.438077</td>\n",
       "      <td>5431.574191</td>\n",
       "      <td>8050.000575</td>\n",
       "      <td>7448.173346</td>\n",
       "      <td>Black lava soil</td>\n",
       "      <td>6.828936</td>\n",
       "      <td>1.317088</td>\n",
       "      <td>29.255153</td>\n",
       "      <td>22.513922</td>\n",
       "      <td>48.981804</td>\n",
       "      <td>849.285847</td>\n",
       "      <td>33.5Â°CÂ</td>\n",
       "      <td>406.2 mm</td>\n",
       "      <td>32%</td>\n",
       "      <td>2930.200301</td>\n",
       "    </tr>\n",
       "    <tr>\n",
       "      <th>1</th>\n",
       "      <td>Bhilwara</td>\n",
       "      <td>Opium</td>\n",
       "      <td>Kharif</td>\n",
       "      <td>13408.49656</td>\n",
       "      <td>32.656645</td>\n",
       "      <td>4378.765153</td>\n",
       "      <td>8538.202470</td>\n",
       "      <td>8817.853877</td>\n",
       "      <td>Chalky (Calcareous)</td>\n",
       "      <td>8.399240</td>\n",
       "      <td>2.276453</td>\n",
       "      <td>25.317040</td>\n",
       "      <td>25.531158</td>\n",
       "      <td>41.003493</td>\n",
       "      <td>504.781794</td>\n",
       "      <td>25.3Â°CÂ</td>\n",
       "      <td>619 mm</td>\n",
       "      <td>51%</td>\n",
       "      <td>2775.330459</td>\n",
       "    </tr>\n",
       "  </tbody>\n",
       "</table>\n",
       "</div>"
      ],
      "text/plain": [
       "   District      Crop  Season  Area (hectares)  Yield (quintals)  \\\n",
       "0   Jodhpur  Oilseeds  Kharif      13431.83094         40.438077   \n",
       "1  Bhilwara     Opium  Kharif      13408.49656         32.656645   \n",
       "\n",
       "   Production (metric tons)  Water Consumption (liters/hectare)  \\\n",
       "0               5431.574191                         8050.000575   \n",
       "1               4378.765153                         8538.202470   \n",
       "\n",
       "   Water Availability (liters/hectare)            Soil Type  pH Level  \\\n",
       "0                          7448.173346      Black lava soil  6.828936   \n",
       "1                          8817.853877  Chalky (Calcareous)  8.399240   \n",
       "\n",
       "   Organic Matter (%)  Nitrogen Content (kg/ha)  Phosphorus Content (kg/ha)  \\\n",
       "0            1.317088                 29.255153                   22.513922   \n",
       "1            2.276453                 25.317040                   25.531158   \n",
       "\n",
       "   Potassium Content (kg/ha)  Average Soil Moisture Temperature  Rainfall  \\\n",
       "0                  48.981804             849.285847   33.5Â°CÂ   406.2 mm   \n",
       "1                  41.003493             504.781794   25.3Â°CÂ     619 mm   \n",
       "\n",
       "  Humidity  Price (INR/quintal)  \n",
       "0      32%          2930.200301  \n",
       "1      51%          2775.330459  "
      ]
     },
     "execution_count": 4,
     "metadata": {},
     "output_type": "execute_result"
    }
   ],
   "source": [
    "data = pd.read_csv('final_merged_data_reduced.csv')\n",
    "data.head(2)"
   ]
  },
  {
   "cell_type": "code",
   "execution_count": 5,
   "id": "046ed524-55f8-464e-bd97-6e2ee868dcf5",
   "metadata": {},
   "outputs": [],
   "source": [
    "data['Rainfall'] = data['Rainfall'].str.replace(r'[^\\d.]', '', regex=True).astype(float)\n",
    "data['Humidity'] = data['Humidity'].str.replace('%', '').astype(float)"
   ]
  },
  {
   "cell_type": "code",
   "execution_count": 6,
   "id": "75938b62-05a1-4f35-8923-4b77e6e64529",
   "metadata": {},
   "outputs": [],
   "source": [
    "X = data.drop(columns=['Water Consumption (liters/hectare)','Season','Temperature','Soil Type'])\n",
    "y = data['Water Consumption (liters/hectare)']"
   ]
  },
  {
   "cell_type": "code",
   "execution_count": 7,
   "id": "d5b0d44d-46ba-4fd9-bd6f-03f711544cfc",
   "metadata": {},
   "outputs": [],
   "source": [
    "categorical_cols = ['District', 'Crop']\n",
    "numerical_cols = ['Area (hectares)', 'Yield (quintals)', 'Production (metric tons)',\n",
    "                  'Water Availability (liters/hectare)', 'pH Level', 'Organic Matter (%)', \n",
    "                  'Nitrogen Content (kg/ha)', 'Phosphorus Content (kg/ha)', \n",
    "                  'Potassium Content (kg/ha)', 'Average Soil Moisture', \n",
    "                  'Rainfall', 'Humidity', 'Price (INR/quintal)']"
   ]
  },
  {
   "cell_type": "code",
   "execution_count": 8,
   "id": "9934be81-fc43-4bcf-83ee-116b9c91b5de",
   "metadata": {},
   "outputs": [],
   "source": [
    "label_encoders = {}\n",
    "for col in categorical_cols:\n",
    "    le = LabelEncoder()\n",
    "    X[col] = le.fit_transform(X[col])\n",
    "    label_encoders[col] = le\n"
   ]
  },
  {
   "cell_type": "code",
   "execution_count": 9,
   "id": "689eca74-328e-4a24-a117-47a11d4b0fdf",
   "metadata": {},
   "outputs": [],
   "source": [
    "mutual_info_numerical = mutual_info_regression(X[numerical_cols], y, random_state=42)"
   ]
  },
  {
   "cell_type": "code",
   "execution_count": 10,
   "id": "a2358a1c-853a-4a93-a665-e21b3a0e2629",
   "metadata": {},
   "outputs": [],
   "source": [
    "mutual_info_categorical = mutual_info_regression(X[categorical_cols], y, random_state=42)"
   ]
  },
  {
   "cell_type": "code",
   "execution_count": 11,
   "id": "3058e427-8717-451b-8319-0ce5afeb86c0",
   "metadata": {},
   "outputs": [],
   "source": [
    "mutual_info_results = pd.Series(mutual_info_numerical, index=numerical_cols)\n",
    "mutual_info_results = pd.concat([mutual_info_results, pd.Series(mutual_info_categorical, index=categorical_cols)]).sort_values(ascending=False)"
   ]
  },
  {
   "cell_type": "code",
   "execution_count": 12,
   "id": "9b76c3b6-f2df-43c4-b8fd-c7fdfee61b27",
   "metadata": {},
   "outputs": [
    {
     "name": "stdout",
     "output_type": "stream",
     "text": [
      "Mutual Information (Numerical and Categorical):\n",
      " Water Availability (liters/hectare)    6.647998\n",
      "Yield (quintals)                       5.034347\n",
      "Production (metric tons)               5.033809\n",
      "Price (INR/quintal)                    5.030916\n",
      "Area (hectares)                        4.891789\n",
      "Average Soil Moisture                  2.288513\n",
      "Humidity                               2.287427\n",
      "Rainfall                               2.286807\n",
      "Organic Matter (%)                     1.997477\n",
      "Phosphorus Content (kg/ha)             1.996195\n",
      "Nitrogen Content (kg/ha)               1.993249\n",
      "Potassium Content (kg/ha)              1.993074\n",
      "pH Level                               1.990275\n",
      "Crop                                   1.333400\n",
      "District                               1.091456\n",
      "dtype: float64\n"
     ]
    }
   ],
   "source": [
    "print(\"Mutual Information (Numerical and Categorical):\\n\", mutual_info_results)"
   ]
  },
  {
   "cell_type": "code",
   "execution_count": 13,
   "id": "1ac511dd-1bab-4b4e-b374-2a0841c7742a",
   "metadata": {},
   "outputs": [
    {
     "data": {
      "image/png": "[encoded data removed]",
      "text/plain": [
       "<Figure size 1000x600 with 1 Axes>"
      ]
     },
     "metadata": {},
     "output_type": "display_data"
    }
   ],
   "source": [
    "mutual_info_results.plot(kind='bar', figsize=(10, 6), color='orange')\n",
    "plt.title('Mutual Information Scores (Numerical Features)')\n",
    "plt.ylabel('Importance')\n",
    "plt.show()"
   ]
  },
  {
   "cell_type": "code",
   "execution_count": 14,
   "id": "85b1f7dc-265b-4d3e-86cd-bd21a5a4d332",
   "metadata": {},
   "outputs": [],
   "source": [
    "selected_features = ['Water Availability (liters/hectare)', 'Yield (quintals)', 'Production (metric tons)', \n",
    "                     'Area (hectares)', 'District','Crop', 'Rainfall', 'Average Soil Moisture']"
   ]
  },
  {
   "cell_type": "code",
   "execution_count": 15,
   "id": "f40806d4-c704-45d3-bcb4-2bc92d228bdb",
   "metadata": {},
   "outputs": [],
   "source": [
    "X_train, X_test, y_train, y_test = train_test_split(X[selected_features], y, test_size=0.4, random_state=42)"
   ]
  },
  {
   "cell_type": "code",
   "execution_count": 16,
   "id": "1c6efff2-fe49-4fe6-9787-411dbd828037",
   "metadata": {},
   "outputs": [
    {
     "data": {
      "text/html": [
       "<style>#sk-container-id-1 {color: black;background-color: white;}#sk-container-id-1 pre{padding: 0;}#sk-container-id-1 div.sk-toggleable {background-color: white;}#sk-container-id-1 label.sk-toggleable__label {cursor: pointer;display: block;width: 100%;margin-bottom: 0;padding: 0.3em;box-sizing: border-box;text-align: center;}#sk-container-id-1 label.sk-toggleable__label-arrow:before {content: \"▸\";float: left;margin-right: 0.25em;color: #696969;}#sk-container-id-1 label.sk-toggleable__label-arrow:hover:before {color: black;}#sk-container-id-1 div.sk-estimator:hover label.sk-toggleable__label-arrow:before {color: black;}#sk-container-id-1 div.sk-toggleable__content {max-height: 0;max-width: 0;overflow: hidden;text-align: left;background-color: #f0f8ff;}#sk-container-id-1 div.sk-toggleable__content pre {margin: 0.2em;color: black;border-radius: 0.25em;background-color: #f0f8ff;}#sk-container-id-1 input.sk-toggleable__control:checked~div.sk-toggleable__content {max-height: 200px;max-width: 100%;overflow: auto;}#sk-container-id-1 input.sk-toggleable__control:checked~label.sk-toggleable__label-arrow:before {content: \"▾\";}#sk-container-id-1 div.sk-estimator input.sk-toggleable__control:checked~label.sk-toggleable__label {background-color: #d4ebff;}#sk-container-id-1 div.sk-label input.sk-toggleable__control:checked~label.sk-toggleable__label {background-color: #d4ebff;}#sk-container-id-1 input.sk-hidden--visually {border: 0;clip: rect(1px 1px 1px 1px);clip: rect(1px, 1px, 1px, 1px);height: 1px;margin: -1px;overflow: hidden;padding: 0;position: absolute;width: 1px;}#sk-container-id-1 div.sk-estimator {font-family: monospace;background-color: #f0f8ff;border: 1px dotted black;border-radius: 0.25em;box-sizing: border-box;margin-bottom: 0.5em;}#sk-container-id-1 div.sk-estimator:hover {background-color: #d4ebff;}#sk-container-id-1 div.sk-parallel-item::after {content: \"\";width: 100%;border-bottom: 1px solid gray;flex-grow: 1;}#sk-container-id-1 div.sk-label:hover label.sk-toggleable__label {background-color: #d4ebff;}#sk-container-id-1 div.sk-serial::before {content: \"\";position: absolute;border-left: 1px solid gray;box-sizing: border-box;top: 0;bottom: 0;left: 50%;z-index: 0;}#sk-container-id-1 div.sk-serial {display: flex;flex-direction: column;align-items: center;background-color: white;padding-right: 0.2em;padding-left: 0.2em;position: relative;}#sk-container-id-1 div.sk-item {position: relative;z-index: 1;}#sk-container-id-1 div.sk-parallel {display: flex;align-items: stretch;justify-content: center;background-color: white;position: relative;}#sk-container-id-1 div.sk-item::before, #sk-container-id-1 div.sk-parallel-item::before {content: \"\";position: absolute;border-left: 1px solid gray;box-sizing: border-box;top: 0;bottom: 0;left: 50%;z-index: -1;}#sk-container-id-1 div.sk-parallel-item {display: flex;flex-direction: column;z-index: 1;position: relative;background-color: white;}#sk-container-id-1 div.sk-parallel-item:first-child::after {align-self: flex-end;width: 50%;}#sk-container-id-1 div.sk-parallel-item:last-child::after {align-self: flex-start;width: 50%;}#sk-container-id-1 div.sk-parallel-item:only-child::after {width: 0;}#sk-container-id-1 div.sk-dashed-wrapped {border: 1px dashed gray;margin: 0 0.4em 0.5em 0.4em;box-sizing: border-box;padding-bottom: 0.4em;background-color: white;}#sk-container-id-1 div.sk-label label {font-family: monospace;font-weight: bold;display: inline-block;line-height: 1.2em;}#sk-container-id-1 div.sk-label-container {text-align: center;}#sk-container-id-1 div.sk-container {/* jupyter's `normalize.less` sets `[hidden] { display: none; }` but bootstrap.min.css set `[hidden] { display: none !important; }` so we also need the `!important` here to be able to override the default hidden behavior on the sphinx rendered scikit-learn.org. See: https://github.com/scikit-learn/scikit-learn/issues/21755 */display: inline-block !important;position: relative;}#sk-container-id-1 div.sk-text-repr-fallback {display: none;}</style><div id=\"sk-container-id-1\" class=\"sk-top-container\"><div class=\"sk-text-repr-fallback\"><pre>RandomForestRegressor(n_estimators=20, random_state=42)</pre><b>In a Jupyter environment, please rerun this cell to show the HTML representation or trust the notebook. <br />On GitHub, the HTML representation is unable to render, please try loading this page with nbviewer.org.</b></div><div class=\"sk-container\" hidden><div class=\"sk-item\"><div class=\"sk-estimator sk-toggleable\"><input class=\"sk-toggleable__control sk-hidden--visually\" id=\"sk-estimator-id-1\" type=\"checkbox\" checked><label for=\"sk-estimator-id-1\" class=\"sk-toggleable__label sk-toggleable__label-arrow\">RandomForestRegressor</label><div class=\"sk-toggleable__content\"><pre>RandomForestRegressor(n_estimators=20, random_state=42)</pre></div></div></div></div></div>"
      ],
      "text/plain": [
       "RandomForestRegressor(n_estimators=20, random_state=42)"
      ]
     },
     "execution_count": 16,
     "metadata": {},
     "output_type": "execute_result"
    }
   ],
   "source": [
    "model = RandomForestRegressor(n_estimators=20, random_state=42)\n",
    "model.fit(X_train, y_train)"
   ]
  },
  {
   "cell_type": "code",
   "execution_count": 17,
   "id": "395eb0ce-601f-46f2-bf52-3a0c19013ce7",
   "metadata": {},
   "outputs": [],
   "source": [
    "y_pred = model.predict(X_test)"
   ]
  },
  {
   "cell_type": "code",
   "execution_count": 18,
   "id": "807afc7d-779f-47de-9e41-a6b5fe6fda2c",
   "metadata": {},
   "outputs": [
    {
     "name": "stdout",
     "output_type": "stream",
     "text": [
      "Mean Squared Error (MSE): 4.913954779017779e-22\n",
      "R² Score: 1.0\n"
     ]
    }
   ],
   "source": [
    "mse = mean_squared_error(y_test, y_pred)\n",
    "r2 = r2_score(y_test, y_pred)\n",
    "print(f\"Mean Squared Error (MSE): {mse}\")\n",
    "print(f\"R² Score: {r2}\")"
   ]
  },
  {
   "cell_type": "code",
   "execution_count": 19,
   "id": "f177f97d-833b-43ba-8b29-77a3c1ea33c6",
   "metadata": {},
   "outputs": [],
   "source": [
    "new_record = {\n",
    "    'District': 'Jodhpur',\n",
    "    'Crop': 'Oilseeds',\n",
    "    'Area (hectares)': 13431.83094,\n",
    "    'Yield (quintals)': 40.438077,\n",
    "    'Production (metric tons)': 5431.574191,\n",
    "    'Average Soil Moisture': 25,\n",
    "    'Rainfall': 100,\n",
    "    'Water Availability (liters/hectare)':7448.173346\n",
    "}"
   ]
  },
  {
   "cell_type": "code",
   "execution_count": 20,
   "id": "7b34707d-bf62-4596-9939-801ea2857a55",
   "metadata": {},
   "outputs": [],
   "source": [
    "new_record_encoded = new_record.copy()\n",
    "for col in categorical_cols:\n",
    "    if col in new_record_encoded:\n",
    "        new_record_encoded[col] = label_encoders[col].transform([new_record_encoded[col]])[0]"
   ]
  },
  {
   "cell_type": "code",
   "execution_count": 21,
   "id": "dd16d2be-5aeb-4289-a1ab-4a454c46c6ce",
   "metadata": {},
   "outputs": [],
   "source": [
    "for col in selected_features:\n",
    "    if col not in new_record_encoded:\n",
    "        new_record_encoded[col] = 0  \n"
   ]
  },
  {
   "cell_type": "code",
   "execution_count": 22,
   "id": "1bb82c34-09fd-43d1-b545-45eeecf5acf1",
   "metadata": {},
   "outputs": [],
   "source": [
    "new_record_df = pd.DataFrame([new_record_encoded])"
   ]
  },
  {
   "cell_type": "code",
   "execution_count": 23,
   "id": "3271de4f-fd91-4223-91d6-01b629ad45d3",
   "metadata": {},
   "outputs": [],
   "source": [
    "new_record_df = new_record_df[selected_features]"
   ]
  },
  {
   "cell_type": "code",
   "execution_count": 24,
   "id": "a8786ba6-c9a6-420b-a9b9-47bef2876466",
   "metadata": {},
   "outputs": [
    {
     "name": "stdout",
     "output_type": "stream",
     "text": [
      "Predicted Water Consumption for the new record: 7030.331345900003\n"
     ]
    }
   ],
   "source": [
    "predicted_consumption = model.predict(new_record_df)\n",
    "print(f\"Predicted Water Consumption for the new record: {predicted_consumption[0]}\")"
   ]
  },
  {
   "cell_type": "code",
   "execution_count": 25,
   "id": "fea864a5-20d2-4e47-a536-687f6295cd14",
   "metadata": {},
   "outputs": [],
   "source": [
    "unique_districts = data['District'].unique()\n",
    "unique_crops = data['Crop'].unique()\n",
    "final_results = []\n"
   ]
  },
  {
   "cell_type": "code",
   "execution_count": 30,
   "id": "42195677-6016-4f2e-ab97-75707a7b88fd",
   "metadata": {},
   "outputs": [
    {
     "name": "stdout",
     "output_type": "stream",
     "text": [
      "    District         Crop  Predicted Water Consumption (liters/hectare)\n",
      "0    Jodhpur     Oilseeds                                  10862.028742\n",
      "1    Jodhpur        Opium                                  10862.028742\n",
      "2    Jodhpur        Onion                                  10862.028742\n",
      "3    Jodhpur       Citrus                                  11158.793388\n",
      "4    Jodhpur  Pomegranate                                  10862.028742\n",
      "..       ...          ...                                           ...\n",
      "225    Alwar        Mango                                  10879.728680\n",
      "226    Alwar      Mustard                                  10857.373057\n",
      "227    Alwar        Cumin                                  10585.552880\n",
      "228    Alwar    Fenugreek                                  10585.552880\n",
      "229    Alwar       Tomato                                  11571.450290\n",
      "\n",
      "[230 rows x 3 columns]\n"
     ]
    }
   ],
   "source": [
    "\n",
    "def safe_encode(label, column, encoder):\n",
    "    if label in encoder.classes_:\n",
    "        return encoder.transform([label])[0]\n",
    "    else:\n",
    "        \n",
    "        print(f\"Warning: Unseen label '{label}' in column '{column}', assigning default value.\")\n",
    "        return encoder.transform([encoder.classes_[0]])[0]  \n",
    "\n",
    "\n",
    "districts = data['District'].unique()\n",
    "\n",
    "results = []\n",
    "for district in districts:\n",
    "    for crop in data['Crop'].unique():\n",
    "        \n",
    "        avg_record = {\n",
    "            'District': district,\n",
    "            'Crop': crop,\n",
    "            'Area (hectares)': data['Area (hectares)'].mean(),\n",
    "            'Yield (quintals)': data['Yield (quintals)'].mean(),\n",
    "            'Production (metric tons)': data['Production (metric tons)'].mean(),\n",
    "            'Average Soil Moisture': data['Average Soil Moisture'].mean(),\n",
    "            'Rainfall': data['Rainfall'].mean(),\n",
    "            'Water Availability (liters/hectare)': data['Water Availability (liters/hectare)'].mean()\n",
    "        }\n",
    "\n",
    "        \n",
    "        avg_record_encoded = avg_record.copy()\n",
    "        avg_record_encoded['District'] = safe_encode(avg_record['District'], 'District', label_encoders['District'])\n",
    "        avg_record_encoded['Crop'] = safe_encode(avg_record['Crop'], 'Crop', label_encoders['Crop'])\n",
    "        \n",
    "        \n",
    "        avg_record_df = pd.DataFrame([avg_record_encoded])[selected_features]\n",
    "        predicted_water = model.predict(avg_record_df)[0]\n",
    "        \n",
    "        \n",
    "        results.append({\n",
    "            'District': district,\n",
    "            'Crop': crop,\n",
    "            'Predicted Water Consumption (liters/hectare)': predicted_water\n",
    "        })\n",
    "\n",
    "\n",
    "final_results_df = pd.DataFrame(results)\n",
    "print(final_results_df)\n",
    "\n",
    "final_results_df.to_csv('final_results.csv', index=False)\n"
   ]
  },
  {
   "cell_type": "code",
   "execution_count": 32,
   "id": "a0b2b222-25e6-4cc2-a140-902813999bfa",
   "metadata": {},
   "outputs": [
    {
     "name": "stdout",
     "output_type": "stream",
     "text": [
      "         District       Crop  Predicted Water Consumption (liters/hectare)\n",
      "0           Ajmer     Fennel                                  10585.552880\n",
      "1           Alwar     Fennel                                  10585.552880\n",
      "2        Bhilwara     Fennel                                  10585.552880\n",
      "3     Hanumangarh     Fennel                                  10585.552880\n",
      "4          Jaipur     Fennel                                  10585.552880\n",
      "5         Jodhpur     Fennel                                  10628.744764\n",
      "6            Kota  Sugarcane                                  10506.904003\n",
      "7          Nagaur  Sugarcane                                  10506.904003\n",
      "8  Sri Ganganagar  Sugarcane                                  10506.904003\n",
      "9         Udaipur  Sugarcane                                  10444.527917\n"
     ]
    }
   ],
   "source": [
    "results = []\n",
    "for district in data['District'].unique():\n",
    "    for crop in data['Crop'].unique():\n",
    "        avg_record = {\n",
    "            'District': district,\n",
    "            'Crop': crop,\n",
    "            'Area (hectares)': data['Area (hectares)'].mean(),\n",
    "            'Yield (quintals)': data['Yield (quintals)'].mean(),\n",
    "            'Production (metric tons)': data['Production (metric tons)'].mean(),\n",
    "            'Average Soil Moisture': data['Average Soil Moisture'].mean(),\n",
    "            'Rainfall': data['Rainfall'].mean(),\n",
    "            'Water Availability (liters/hectare)': data['Water Availability (liters/hectare)'].mean()\n",
    "        }\n",
    "        avg_record_encoded = avg_record.copy()\n",
    "        for col in categorical_cols:\n",
    "            avg_record_encoded[col] = label_encoders[col].transform([avg_record_encoded[col]])[0]\n",
    "\n",
    "        avg_record_df = pd.DataFrame([avg_record_encoded])[selected_features]\n",
    "        predicted_water = model.predict(avg_record_df)[0]\n",
    "\n",
    "        results.append({\n",
    "            'District': label_encoders['District'].inverse_transform([avg_record_encoded['District']])[0],\n",
    "            'Crop': label_encoders['Crop'].inverse_transform([avg_record_encoded['Crop']])[0],\n",
    "            'Predicted Water Consumption (liters/hectare)': predicted_water\n",
    "        })\n",
    "final_results_df = pd.DataFrame(results)\n",
    "best_crops_df = final_results_df.loc[final_results_df.groupby('District')['Predicted Water Consumption (liters/hectare)'].idxmin()]\n",
    "best_crops_df = best_crops_df.sort_values(by='District').reset_index(drop=True)\n",
    "print(best_crops_df)"
   ]
  },
  {
   "cell_type": "code",
   "execution_count": null,
   "id": "5737e970-7ed7-4386-9c88-67789af4f233",
   "metadata": {},
   "outputs": [],
   "source": []
  }
 ],
 "metadata": {
  "kernelspec": {
   "display_name": "Python 3 (ipykernel)",
   "language": "python",
   "name": "python3"
  },
  "language_info": {
   "codemirror_mode": {
    "name": "ipython",
    "version": 3
   },
   "file_extension": ".py",
   "mimetype": "text/x-python",
   "name": "python",
   "nbconvert_exporter": "python",
   "pygments_lexer": "ipython3",
   "version": "3.11.7"
  }
 },
 "nbformat": 4,
 "nbformat_minor": 5
}
